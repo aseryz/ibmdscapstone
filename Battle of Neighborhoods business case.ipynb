{
    "cells": [
        {
            "cell_type": "markdown",
            "metadata": {},
            "source": "# Battle of Neighborhoods capstone project\n## The case"
        },
        {
            "cell_type": "markdown",
            "metadata": {},
            "source": "Imagine the situation when people from one city are getting job offers from another city and need to decide are those offers are good or bad considering not only payroll amount but also so called \"quality of life\" and \"similarity of life\".\n\nPlanning their move people also look for other aspects of life:\n\n- apartment rent price\n- criminal situation\n- availability of public transportations\n- schools\n- caffes/restaurants\n- bars/clubs\n- parks\n- churches\n\nTarget of this project is to make a model that clusterize areas in order to find (or not to find) similar areas in both cities. Similarity in this case means coincidence of factors listed above.\n"
        },
        {
            "cell_type": "markdown",
            "metadata": {},
            "source": "## Implementation\n\nTo start implementing model I need the following data\n\n- areas distribution (neighborhoods)\n- population for each neighborhood \n- criminal data for each area\n- rent cost for each area (at least generalized)\n- number of different venues according to those factors that are important for similarity check\n\nBased on those data we will be able to build a clusterzation model and, respectively build possible \"From\" -> \"To\" neighborhoods pairs.\n\nImportant note about rent cost - we need to take to the account current to offered income ratio. In other words if I move from Toronto to NYC obviously it means some raise in my income which allows me to rent more expensive apartment and vice versa. So to compare apples to apples rent cost should be ajusted accordingly"
        },
        {
            "cell_type": "markdown",
            "metadata": {},
            "source": "## Data issues\n\nData to be taken from Forsquare for each area:\n\n- availability of public transportations (number of bus stops and metro/rail stations)\n- schools\n- caffes/restaurants\n- bars/clubs (nightlife)\n- parks\n- churches \n\nusing venues categories from this list https://developer.foursquare.com/docs/build-with-foursquare/categories/ we are going to calculate number of each venue to population ratio which will give us availability of such type of venues.\n\nPopulation data as well as crime data is going to be taken from open sources like NYC open data (https://data.cityofnewyork.us/) and Toronto open data (https://data.torontopolice.on.ca/ - police department, https://www.toronto.ca/city-government/data-research-maps/open-data/open-data-gallery/ - open data of Toronto city)\n\nThere is a small problem during using the data from the first glance - sometimes several areas are aggregated together and stats in open data sources are provided also as aggregated numbers. So additional aggregation/de-aggregation also will be needed."
        },
        {
            "cell_type": "code",
            "execution_count": null,
            "metadata": {},
            "outputs": [],
            "source": ""
        }
    ],
    "metadata": {
        "kernelspec": {
            "display_name": "Python 3.7",
            "language": "python",
            "name": "python3"
        },
        "language_info": {
            "codemirror_mode": {
                "name": "ipython",
                "version": 3
            },
            "file_extension": ".py",
            "mimetype": "text/x-python",
            "name": "python",
            "nbconvert_exporter": "python",
            "pygments_lexer": "ipython3",
            "version": "3.7.9"
        }
    },
    "nbformat": 4,
    "nbformat_minor": 1
}